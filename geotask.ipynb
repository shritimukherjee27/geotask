{
  "nbformat": 4,
  "nbformat_minor": 0,
  "metadata": {
    "colab": {
      "provenance": [],
      "authorship_tag": "ABX9TyPvMA3rU1IsKm2d/Btpz9yk",
      "include_colab_link": true
    },
    "kernelspec": {
      "name": "python3",
      "display_name": "Python 3"
    },
    "language_info": {
      "name": "python"
    }
  },
  "cells": [
    {
      "cell_type": "markdown",
      "metadata": {
        "id": "view-in-github",
        "colab_type": "text"
      },
      "source": [
        "<a href=\"https://colab.research.google.com/github/shritimukherjee27/geotask/blob/main/geotask.ipynb\" target=\"_parent\"><img src=\"https://colab.research.google.com/assets/colab-badge.svg\" alt=\"Open In Colab\"/></a>"
      ]
    },
    {
      "cell_type": "markdown",
      "source": [
        "In this project the data used is from Google Earth Engine, User must provide with three inputs\n",
        "  \n",
        "\n",
        "1.   Geojson\n",
        "2.   Start and End Date\n",
        "3.   Interval of images\n",
        "\n",
        "****************************************************************************\n"
      ],
      "metadata": {
        "id": "v-gnHdfDa8bD"
      }
    },
    {
      "cell_type": "markdown",
      "source": [
        "Let's input geojson data,start date end,date and interval. For uploading gojson data click on the folde icon on the left panel and copy the relative path"
      ],
      "metadata": {
        "id": "6OrLX_8SfJ_x"
      }
    },
    {
      "cell_type": "code",
      "source": [
        "\n",
        "geojson_data='/content/map.geojson'\n"
      ],
      "metadata": {
        "colab": {
          "base_uri": "https://localhost:8080/",
          "height": 17
        },
        "id": "XwqoOHGygDu6",
        "outputId": "c816c714-f41a-45ef-abc9-62a40fc1c09c"
      },
      "execution_count": null,
      "outputs": [
        {
          "output_type": "display_data",
          "data": {
            "text/plain": [
              "<IPython.core.display.HTML object>"
            ],
            "text/html": [
              "\n",
              "            <style>\n",
              "                .geemap-dark {\n",
              "                    --jp-widgets-color: white;\n",
              "                    --jp-widgets-label-color: white;\n",
              "                    --jp-ui-font-color1: white;\n",
              "                    --jp-layout-color2: #454545;\n",
              "                    background-color: #383838;\n",
              "                }\n",
              "\n",
              "                .geemap-dark .jupyter-button {\n",
              "                    --jp-layout-color3: #383838;\n",
              "                }\n",
              "\n",
              "                .geemap-colab {\n",
              "                    background-color: var(--colab-primary-surface-color, white);\n",
              "                }\n",
              "\n",
              "                .geemap-colab .jupyter-button {\n",
              "                    --jp-layout-color3: var(--colab-primary-surface-color, white);\n",
              "                }\n",
              "            </style>\n",
              "            "
            ]
          },
          "metadata": {}
        }
      ]
    },
    {
      "cell_type": "code",
      "source": [
        "start_date\n",
        "end_date\n",
        "interval"
      ],
      "metadata": {
        "id": "9yKUvM9DgrGQ"
      },
      "execution_count": null,
      "outputs": []
    },
    {
      "cell_type": "code",
      "execution_count": 21,
      "metadata": {
        "id": "LOAjjSMlPbK6"
      },
      "outputs": [],
      "source": [
        "#   Make sure to install geemap and geojson libraries\n",
        "!pip install geemap\n",
        "!pip install geojson\n"
      ]
    },
    {
      "cell_type": "markdown",
      "source": [
        "Importing libraries\n"
      ],
      "metadata": {
        "id": "Pltrw9PGZSHX"
      }
    },
    {
      "cell_type": "code",
      "source": [
        "import numpy as np\n",
        "import matplotlib.pyplot as plt\n",
        "import pandas as pd\n",
        "import geojson\n",
        "import geemap\n",
        "import ipywidgets as widgets\n",
        "import ee\n"
      ],
      "metadata": {
        "colab": {
          "base_uri": "https://localhost:8080/",
          "height": 17
        },
        "id": "8JrpZrakPSyV",
        "outputId": "6f09bd32-3545-44d5-8b3d-d2aa4a4b0b12"
      },
      "execution_count": null,
      "outputs": [
        {
          "output_type": "display_data",
          "data": {
            "text/plain": [
              "<IPython.core.display.HTML object>"
            ],
            "text/html": [
              "\n",
              "            <style>\n",
              "                .geemap-dark {\n",
              "                    --jp-widgets-color: white;\n",
              "                    --jp-widgets-label-color: white;\n",
              "                    --jp-ui-font-color1: white;\n",
              "                    --jp-layout-color2: #454545;\n",
              "                    background-color: #383838;\n",
              "                }\n",
              "\n",
              "                .geemap-dark .jupyter-button {\n",
              "                    --jp-layout-color3: #383838;\n",
              "                }\n",
              "\n",
              "                .geemap-colab {\n",
              "                    background-color: var(--colab-primary-surface-color, white);\n",
              "                }\n",
              "\n",
              "                .geemap-colab .jupyter-button {\n",
              "                    --jp-layout-color3: var(--colab-primary-surface-color, white);\n",
              "                }\n",
              "            </style>\n",
              "            "
            ]
          },
          "metadata": {}
        }
      ]
    },
    {
      "cell_type": "markdown",
      "source": [
        "Give all the permissions when pop up appears"
      ],
      "metadata": {
        "id": "0GU5kqyEbvqR"
      }
    },
    {
      "cell_type": "code",
      "source": [
        "ee.Authenticate()\n"
      ],
      "metadata": {
        "colab": {
          "base_uri": "https://localhost:8080/",
          "height": 34
        },
        "id": "sNEiP7E-blzu",
        "outputId": "0203462d-ef8a-422b-c46e-5aac31b2aebb"
      },
      "execution_count": null,
      "outputs": [
        {
          "output_type": "display_data",
          "data": {
            "text/plain": [
              "<IPython.core.display.HTML object>"
            ],
            "text/html": [
              "\n",
              "            <style>\n",
              "                .geemap-dark {\n",
              "                    --jp-widgets-color: white;\n",
              "                    --jp-widgets-label-color: white;\n",
              "                    --jp-ui-font-color1: white;\n",
              "                    --jp-layout-color2: #454545;\n",
              "                    background-color: #383838;\n",
              "                }\n",
              "\n",
              "                .geemap-dark .jupyter-button {\n",
              "                    --jp-layout-color3: #383838;\n",
              "                }\n",
              "\n",
              "                .geemap-colab {\n",
              "                    background-color: var(--colab-primary-surface-color, white);\n",
              "                }\n",
              "\n",
              "                .geemap-colab .jupyter-button {\n",
              "                    --jp-layout-color3: var(--colab-primary-surface-color, white);\n",
              "                }\n",
              "            </style>\n",
              "            "
            ]
          },
          "metadata": {}
        },
        {
          "output_type": "execute_result",
          "data": {
            "text/plain": [
              "True"
            ]
          },
          "metadata": {},
          "execution_count": 15
        }
      ]
    },
    {
      "cell_type": "markdown",
      "source": [
        "Got to the link https://console.cloud.google.com/\n",
        "\n",
        "- Check the url  for example https://console.cloud.google.com/welcome?project=geotask-424116\n",
        "\n",
        "- Copy the project id (i.e.project=geotask-424116)"
      ],
      "metadata": {
        "id": "5GAjDgT6cVeZ"
      }
    },
    {
      "cell_type": "code",
      "source": [
        "ee.Initialize(project='geotask-424116')"
      ],
      "metadata": {
        "colab": {
          "base_uri": "https://localhost:8080/",
          "height": 17
        },
        "id": "uanT-wC-bzdf",
        "outputId": "223c6c6a-1b4b-470e-efb4-d88d04f7df2d"
      },
      "execution_count": null,
      "outputs": [
        {
          "output_type": "display_data",
          "data": {
            "text/plain": [
              "<IPython.core.display.HTML object>"
            ],
            "text/html": [
              "\n",
              "            <style>\n",
              "                .geemap-dark {\n",
              "                    --jp-widgets-color: white;\n",
              "                    --jp-widgets-label-color: white;\n",
              "                    --jp-ui-font-color1: white;\n",
              "                    --jp-layout-color2: #454545;\n",
              "                    background-color: #383838;\n",
              "                }\n",
              "\n",
              "                .geemap-dark .jupyter-button {\n",
              "                    --jp-layout-color3: #383838;\n",
              "                }\n",
              "\n",
              "                .geemap-colab {\n",
              "                    background-color: var(--colab-primary-surface-color, white);\n",
              "                }\n",
              "\n",
              "                .geemap-colab .jupyter-button {\n",
              "                    --jp-layout-color3: var(--colab-primary-surface-color, white);\n",
              "                }\n",
              "            </style>\n",
              "            "
            ]
          },
          "metadata": {}
        }
      ]
    },
    {
      "cell_type": "markdown",
      "source": [
        "This step reads the geojson file"
      ],
      "metadata": {
        "id": "-lOZFsOOg68a"
      }
    },
    {
      "cell_type": "code",
      "source": [
        "with open(geojson_data) as f:\n",
        "    geojson_data = geojson.load(f)\n"
      ],
      "metadata": {
        "colab": {
          "base_uri": "https://localhost:8080/",
          "height": 17
        },
        "id": "BzDQUxhdt3ht",
        "outputId": "da4f20d7-3143-48f4-a582-4dd0eb5bfdce"
      },
      "execution_count": null,
      "outputs": [
        {
          "output_type": "display_data",
          "data": {
            "text/plain": [
              "<IPython.core.display.HTML object>"
            ],
            "text/html": [
              "\n",
              "            <style>\n",
              "                .geemap-dark {\n",
              "                    --jp-widgets-color: white;\n",
              "                    --jp-widgets-label-color: white;\n",
              "                    --jp-ui-font-color1: white;\n",
              "                    --jp-layout-color2: #454545;\n",
              "                    background-color: #383838;\n",
              "                }\n",
              "\n",
              "                .geemap-dark .jupyter-button {\n",
              "                    --jp-layout-color3: #383838;\n",
              "                }\n",
              "\n",
              "                .geemap-colab {\n",
              "                    background-color: var(--colab-primary-surface-color, white);\n",
              "                }\n",
              "\n",
              "                .geemap-colab .jupyter-button {\n",
              "                    --jp-layout-color3: var(--colab-primary-surface-color, white);\n",
              "                }\n",
              "            </style>\n",
              "            "
            ]
          },
          "metadata": {}
        }
      ]
    },
    {
      "cell_type": "code",
      "source": [
        "vis_param_L457 = {'min': 0, 'max': 30000, 'bands': ['SR_B3', 'SR_B2', 'SR_B1']} # for landsat raw image visualization\n",
        "sc_vis_param_L457 = {'min':0, 'max':0.3, 'bands': ['SR_B3', 'SR_B2', 'SR_B1']} # for scaled landsat image visualization\n",
        "\n",
        "vis_param_L8 = {'min': 0, 'max': 30000, 'bands': ['SR_B4', 'SR_B3', 'SR_B2']} # for landsat raw image visualization\n",
        "sc_vis_param_L8 = {'min':0, 'max':0.3, 'bands': ['SR_B4', 'SR_B3', 'SR_B2']} # for scaled landsat image visualization\n",
        "\n",
        "zoom = 8\n",
        "width=\"40%\"\n",
        "center = [29.9617498,61.7604367]"
      ],
      "metadata": {
        "id": "C0mhDcNkQYX_"
      },
      "execution_count": null,
      "outputs": []
    },
    {
      "cell_type": "markdown",
      "source": [
        "Coordinates for the region of interest"
      ],
      "metadata": {
        "id": "0dhmsBwXhQWD"
      }
    },
    {
      "cell_type": "code",
      "source": [
        "aoi = ee.Geometry.Polygon(geojson_data['features'][0]['geometry']['coordinates'], None, False)\n",
        "display(aoi)"
      ],
      "metadata": {
        "colab": {
          "base_uri": "https://localhost:8080/",
          "height": 68
        },
        "id": "Bb34pwlrSbTC",
        "outputId": "53b66a84-4eb4-424e-97ff-2fa76d7a4347"
      },
      "execution_count": null,
      "outputs": [
        {
          "output_type": "display_data",
          "data": {
            "text/plain": [
              "<IPython.core.display.HTML object>"
            ],
            "text/html": [
              "\n",
              "            <style>\n",
              "                .geemap-dark {\n",
              "                    --jp-widgets-color: white;\n",
              "                    --jp-widgets-label-color: white;\n",
              "                    --jp-ui-font-color1: white;\n",
              "                    --jp-layout-color2: #454545;\n",
              "                    background-color: #383838;\n",
              "                }\n",
              "\n",
              "                .geemap-dark .jupyter-button {\n",
              "                    --jp-layout-color3: #383838;\n",
              "                }\n",
              "\n",
              "                .geemap-colab {\n",
              "                    background-color: var(--colab-primary-surface-color, white);\n",
              "                }\n",
              "\n",
              "                .geemap-colab .jupyter-button {\n",
              "                    --jp-layout-color3: var(--colab-primary-surface-color, white);\n",
              "                }\n",
              "            </style>\n",
              "            "
            ]
          },
          "metadata": {}
        },
        {
          "output_type": "display_data",
          "data": {
            "text/plain": [
              "ee.Geometry({\n",
              "  \"functionInvocationValue\": {\n",
              "    \"functionName\": \"GeometryConstructors.Polygon\",\n",
              "    \"arguments\": {\n",
              "      \"coordinates\": {\n",
              "        \"constantValue\": [\n",
              "          [\n",
              "            [\n",
              "              77.625121,\n",
              "              12.957113\n",
              "            ],\n",
              "            [\n",
              "              77.625121,\n",
              "              12.902361\n",
              "            ],\n",
              "            [\n",
              "              77.690063,\n",
              "              12.902361\n",
              "            ],\n",
              "            [\n",
              "              77.690063,\n",
              "              12.957113\n",
              "            ],\n",
              "            [\n",
              "              77.625121,\n",
              "              12.957113\n",
              "            ]\n",
              "          ]\n",
              "        ]\n",
              "      },\n",
              "      \"geodesic\": {\n",
              "        \"constantValue\": false\n",
              "      }\n",
              "    }\n",
              "  }\n",
              "})"
            ],
            "text/html": [
              "<div><style>:root {\n",
              "  --font-color-primary: var(--jp-content-font-color0, rgba(0, 0, 0, 1));\n",
              "  --font-color-secondary: var(--jp-content-font-color2, rgba(0, 0, 0, 0.6));\n",
              "  --font-color-accent: rgba(123, 31, 162, 1);\n",
              "  --border-color: var(--jp-border-color2, #e0e0e0);\n",
              "  --background-color: var(--jp-layout-color0, white);\n",
              "  --background-color-row-even: var(--jp-layout-color1, white);\n",
              "  --background-color-row-odd: var(--jp-layout-color2, #eeeeee);\n",
              "}\n",
              "\n",
              "html[theme=\"dark\"],\n",
              "body[data-theme=\"dark\"],\n",
              "body.vscode-dark {\n",
              "  --font-color-primary: rgba(255, 255, 255, 1);\n",
              "  --font-color-secondary: rgba(255, 255, 255, 0.6);\n",
              "  --font-color-accent: rgb(173, 132, 190);\n",
              "  --border-color: #2e2e2e;\n",
              "  --background-color: #111111;\n",
              "  --background-color-row-even: #111111;\n",
              "  --background-color-row-odd: #313131;\n",
              "}\n",
              "\n",
              ".ee {\n",
              "  padding: 1em;\n",
              "  line-height: 1.5em;\n",
              "  min-width: 300px;\n",
              "  max-width: 1200px;\n",
              "  overflow-y: scroll;\n",
              "  max-height: 600px;\n",
              "  border: 1px solid var(--border-color);\n",
              "  font-family: monospace;\n",
              "}\n",
              "\n",
              ".ee li {\n",
              "  list-style-type: none;\n",
              "}\n",
              "\n",
              ".ee ul {\n",
              "  padding-left: 1.5em !important;\n",
              "  margin: 0;\n",
              "}\n",
              "\n",
              ".ee > ul {\n",
              "  padding-left: 0 !important;\n",
              "}\n",
              "\n",
              ".ee-open,\n",
              ".ee-shut {\n",
              "  color: var(--font-color-secondary);\n",
              "  cursor: pointer;\n",
              "  margin: 0;\n",
              "}\n",
              "\n",
              ".ee-open:hover,\n",
              ".ee-shut:hover {\n",
              "  color: var(--font-color-primary);\n",
              "}\n",
              "\n",
              ".ee-k {\n",
              "  color: var(--font-color-accent);\n",
              "  margin-right: 6px;\n",
              "}\n",
              "\n",
              ".ee-v {\n",
              "  color: var(--font-color-primary);\n",
              "}\n",
              "\n",
              ".ee-toggle {\n",
              "  display: none;\n",
              "}\n",
              "\n",
              ".ee-shut + ul {\n",
              "  display: none;\n",
              "}\n",
              "\n",
              ".ee-open + ul {\n",
              "  display: block;\n",
              "}\n",
              "\n",
              ".ee-shut::before {\n",
              "  display: inline-block;\n",
              "  content: \"▼\";\n",
              "  margin-right: 6px;\n",
              "  transform: rotate(-90deg);\n",
              "  transition: transform 0.2s;\n",
              "}\n",
              "\n",
              ".ee-open::before {\n",
              "  transform: rotate(0deg);\n",
              "  display: inline-block;\n",
              "  content: \"▼\";\n",
              "  margin-right: 6px;\n",
              "  transition: transform 0.2s;\n",
              "}\n",
              "</style><div class='ee'><ul><li><label class='ee-shut'>Polygon (5 vertices)<input type='checkbox' class='ee-toggle'></label><ul><li><span class='ee-k'>type:</span><span class='ee-v'>Polygon</span></li><li><label class='ee-shut'>coordinates: List (1 element)<input type='checkbox' class='ee-toggle'></label><ul><li><label class='ee-shut'>0: List (5 elements)<input type='checkbox' class='ee-toggle'></label><ul><li><label class='ee-shut'>0: [77.625121, 12.902361]<input type='checkbox' class='ee-toggle'></label><ul><li><span class='ee-k'>0:</span><span class='ee-v'>77.625121</span></li><li><span class='ee-k'>1:</span><span class='ee-v'>12.902361</span></li></ul></li><li><label class='ee-shut'>1: [77.690063, 12.902361]<input type='checkbox' class='ee-toggle'></label><ul><li><span class='ee-k'>0:</span><span class='ee-v'>77.690063</span></li><li><span class='ee-k'>1:</span><span class='ee-v'>12.902361</span></li></ul></li><li><label class='ee-shut'>2: [77.690063, 12.957113]<input type='checkbox' class='ee-toggle'></label><ul><li><span class='ee-k'>0:</span><span class='ee-v'>77.690063</span></li><li><span class='ee-k'>1:</span><span class='ee-v'>12.957113</span></li></ul></li><li><label class='ee-shut'>3: [77.625121, 12.957113]<input type='checkbox' class='ee-toggle'></label><ul><li><span class='ee-k'>0:</span><span class='ee-v'>77.625121</span></li><li><span class='ee-k'>1:</span><span class='ee-v'>12.957113</span></li></ul></li><li><label class='ee-shut'>4: [77.625121, 12.902361]<input type='checkbox' class='ee-toggle'></label><ul><li><span class='ee-k'>0:</span><span class='ee-v'>77.625121</span></li><li><span class='ee-k'>1:</span><span class='ee-v'>12.902361</span></li></ul></li></ul></li></ul></li><li><span class='ee-k'>geodesic:</span><span class='ee-v'>False</span></li></ul></li></ul></div><script>function toggleHeader() {\n",
              "    const parent = this.parentElement;\n",
              "    parent.className = parent.className === \"ee-open\" ? \"ee-shut\" : \"ee-open\";\n",
              "}\n",
              "\n",
              "for (let c of document.getElementsByClassName(\"ee-toggle\")) {\n",
              "    c.onclick = toggleHeader;\n",
              "}</script></div>"
            ]
          },
          "metadata": {}
        }
      ]
    },
    {
      "cell_type": "markdown",
      "source": [
        "This step the cloud from the image is being removed\n",
        "-"
      ],
      "metadata": {
        "id": "mQ5AkXrdhenr"
      }
    },
    {
      "cell_type": "code",
      "source": [
        "##  Cloud masking algorithms for Landsat 4, 5, 7 surface reflectance\n",
        "def maskL457sr(image):\n",
        "  qaMask = image.select('QA_PIXEL').bitwiseAnd(ee.Number.parse('11111', 2)).eq(0).rename(\"QA_MASK\")\n",
        "  saturationMask = image.select('QA_RADSAT').eq(0)    # The QA_RADSAT band indicates which sensor band(s) are saturated.presence of cloud or bad saturation\n",
        "\n",
        "  # Apply the scaling factors to the appropriate bands.\n",
        "  opticalBands = image.select('SR_B.').multiply(0.0000275).add(-0.2)\n",
        "  thermalBands = image.select('ST_B6').multiply(0.00341802).add(149.0)\n",
        "\n",
        "  # Replace the original bands with the scaled ones and apply the masks.\n",
        "  return image.addBands(opticalBands, None, True) \\\n",
        "              .addBands(thermalBands, None, True)  \\\n",
        "              .updateMask(qaMask) \\\n",
        "              .updateMask(saturationMask)\n",
        "\n",
        "\n",
        "#  Cloud masking algorithms for Landsat 8 surface reflectance\n",
        "def maskL8sr(image):\n",
        "  qaMask = image.select('QA_PIXEL').bitwiseAnd(int('11111',2)).eq(0).rename(\"QA_MASK\")\n",
        "  saturationMask = image.select('QA_RADSAT').eq(0)\n",
        "\n",
        "  # Apply the scaling factors to the appropriate bands.\n",
        "  opticalBands = image.select('SR_B.').multiply(0.0000275).add(-0.2)\n",
        "  thermalBands = image.select('ST_B.*').multiply(0.00341802).add(149.0)\n",
        "\n",
        "  # Replace the original bands with the scaled ones and apply the masks.\n",
        "  return image.addBands(opticalBands, None, True) \\\n",
        "              .addBands(thermalBands, None, True)  \\\n",
        "              .updateMask(qaMask) \\\n",
        "              .updateMask(saturationMask)"
      ],
      "metadata": {
        "colab": {
          "base_uri": "https://localhost:8080/",
          "height": 17
        },
        "id": "kI2EPJHmU_0K",
        "outputId": "7b2db6ab-8223-4cc3-aecd-5c91108d1f3f"
      },
      "execution_count": null,
      "outputs": [
        {
          "output_type": "display_data",
          "data": {
            "text/plain": [
              "<IPython.core.display.HTML object>"
            ],
            "text/html": [
              "\n",
              "            <style>\n",
              "                .geemap-dark {\n",
              "                    --jp-widgets-color: white;\n",
              "                    --jp-widgets-label-color: white;\n",
              "                    --jp-ui-font-color1: white;\n",
              "                    --jp-layout-color2: #454545;\n",
              "                    background-color: #383838;\n",
              "                }\n",
              "\n",
              "                .geemap-dark .jupyter-button {\n",
              "                    --jp-layout-color3: #383838;\n",
              "                }\n",
              "\n",
              "                .geemap-colab {\n",
              "                    background-color: var(--colab-primary-surface-color, white);\n",
              "                }\n",
              "\n",
              "                .geemap-colab .jupyter-button {\n",
              "                    --jp-layout-color3: var(--colab-primary-surface-color, white);\n",
              "                }\n",
              "            </style>\n",
              "            "
            ]
          },
          "metadata": {}
        }
      ]
    },
    {
      "cell_type": "code",
      "source": [
        "L5Col_test = ee.ImageCollection('LANDSAT/LT05/C02/T1_L2') \\\n",
        "                .filterDate('1995-01-01', '1995-02-20') \\\n",
        "                .filterBounds(aoi) \\\n",
        "                .filter(ee.Filter.lt('CLOUD_COVER', 10)) \\\n",
        "                .map(algorithm=maskL457sr) \\\n",
        "                .median()\n",
        "Map = geemap.Map(center = center, zoom = zoom, width = width)\n",
        "Map.addLayer(L5Col_test, sc_vis_param_L457, name=\"TEST\")\n",
        "Map"
      ],
      "metadata": {
        "id": "qP5b__v3XB_3"
      },
      "execution_count": null,
      "outputs": []
    },
    {
      "cell_type": "code",
      "source": [
        " display(L5Col_test.bandNames())"
      ],
      "metadata": {
        "id": "zygF47FwXm8m"
      },
      "execution_count": null,
      "outputs": []
    },
    {
      "cell_type": "code",
      "source": [
        "nir_test = L5Col_test.select('SR_B5')\n",
        "Map = geemap.Map(center = center, zoom = zoom, width = width)\n",
        "Map.addLayer(nir_test, name=\"NIR\")\n",
        "Map"
      ],
      "metadata": {
        "id": "I1prlLNsZl7Y"
      },
      "execution_count": null,
      "outputs": []
    },
    {
      "cell_type": "code",
      "source": [
        "# Load ImageCollection from Earth Engine using its asset ID\n",
        "# For Example, landsat collection on earth engine: https://developers.google.com/earth-engine/datasets/catalog/landsat\n",
        "\n",
        "L5Col = ee.ImageCollection('LANDSAT/LT05/C02/T1_L2').filterBounds(aoi).filter(ee.Filter.lt('CLOUD_COVER', 10)) # Landsat 5\n",
        "L7Col = ee.ImageCollection(\"LANDSAT/LE07/C02/T1_L2\").filterBounds(aoi).filter(ee.Filter.lt('CLOUD_COVER', 10)) # Landsat 7\n",
        "L8Col = ee.ImageCollection(\"LANDSAT/LC08/C02/T1_L2\").filterBounds(aoi).filter(ee.Filter.lt('CLOUD_COVER', 10)) # Landsat 8"
      ],
      "metadata": {
        "id": "Eepfilo3ccZO"
      },
      "execution_count": null,
      "outputs": []
    },
    {
      "cell_type": "code",
      "source": [
        "def MaskWaterFunc(image, blueBand, greenBand, redBand,  nirBand, swirBand):  # image is median aggregiated single image from the collection, not data of type ImageCollection!!!\n",
        "  MNDWI = image.expression(\n",
        "      '((greenBand - swirBand) / (greenBand + swirBand))',\n",
        "        {\n",
        "          'greenBand': image.select(greenBand),\n",
        "          'swirBand': image.select(swirBand),\n",
        "        },\n",
        "      ).rename(\"MNDWI\")\n",
        "\n",
        "  NDVI = image.expression(\n",
        "      '((nirBand - redBand) / (nirBand + redBand))',\n",
        "        {\n",
        "          'nirBand': image.select(nirBand),\n",
        "          'redBand': image.select(redBand),\n",
        "        },\n",
        "      ).rename(\"NDVI\")\n",
        "\n",
        "  EVI = image.expression(\n",
        "      '2.5 * ((nirBand - redBand) / (nirBand + 6 * redBand - 7.5 * blueBand + 1))',\n",
        "        {\n",
        "          'nirBand': image.select(nirBand),\n",
        "          'redBand': image.select(redBand),\n",
        "          'blueBand': image.select(blueBand),\n",
        "        },\n",
        "      ).rename(\"EVI\")\n",
        "\n",
        "  # Water Body Criteria: EVI < 0.1 and (MNDWI > EVI or MNDWI > NDVI)\n",
        "  waterBody = EVI.lt(0.1).And(MNDWI.gt(EVI).Or(MNDWI.gt(NDVI)))\n",
        "  return waterBody.rename(\"WATER\")"
      ],
      "metadata": {
        "id": "znoFGFt6fk1S"
      },
      "execution_count": null,
      "outputs": []
    },
    {
      "cell_type": "code",
      "source": [
        "waterMask = {}\n",
        "\n",
        "for year in range(1985, 2025, 5):\n",
        "\n",
        "  # Years using Landsat-5 image collection\n",
        "  if year in [1985, 1990, 1995]:\n",
        "    imgCollection = L5Col.filterDate(f'{int(year)-1}-01-01', f'{int(year)+1}-12-31')    # filter collection by date\n",
        "    imgCloudMask = imgCollection.map(algorithm=maskL457sr)                              # run cloud masking and scale the pixel values\n",
        "    imgAgg = imgCloudMask.median().clip(aoi)                                            # aggregate the image and clip over AOI\n",
        "\n",
        "    display(imgAgg)                                                                     # diplay \"imgAgg\" image properties for each year's image\n",
        "    key = f'waterMask_{year}'                                                           # initialize key\n",
        "\n",
        "    # Apply Extract Water Mask Algorithm to the images.\n",
        "    waterBody = MaskWaterFunc(imgAgg, blueBand = 'SR_B1', greenBand = 'SR_B2', redBand = 'SR_B3', nirBand = 'SR_B4', swirBand = 'SR_B5')  # Run MaskWaterFunc algorithm to mask water bodies\n",
        "    waterMask[key]=[imgAgg, waterBody]                                                  # save satellite image, and water body mask into dictionary\n",
        "\n",
        "  # Years using Landsat-7 image collection\n",
        "  if year in [2000, 2005, 2010]:\n",
        "    imgCollection = L7Col.filterDate(f'{int(year)-1}-01-01', f'{int(year)+1}-12-31')\n",
        "    imgCloudMask = imgCollection.map(algorithm=maskL457sr)\n",
        "    imgAgg = imgCloudMask.median().clip(aoi)\n",
        "    key = f'waterMask_{year}'\n",
        "    display(imgAgg)\n",
        "    waterMask[key]=[imgAgg, MaskWaterFunc(imgAgg, blueBand = 'SR_B1', greenBand = 'SR_B2', redBand = 'SR_B3', nirBand = 'SR_B4', swirBand = 'SR_B5')]\n",
        "\n",
        "  # Years using Landsat-8 image collection\n",
        "  if year in [2015, 2020]:\n",
        "    imgCollection = L8Col.filterDate(f'{int(year)-1}-01-01', f'{int(year)+1}-12-31')\n",
        "    imgCloudMask = imgCollection.map(algorithm=maskL8sr)\n",
        "    imgAgg = imgCloudMask.median().clip(aoi)\n",
        "    key = f'waterMask_{year}'\n",
        "    display(imgAgg)\n",
        "    waterMask[key]=[imgAgg, MaskWaterFunc(imgAgg, blueBand = 'SR_B2', greenBand = 'SR_B3', redBand = 'SR_B4', nirBand = 'SR_B5', swirBand = 'SR_B6')]"
      ],
      "metadata": {
        "id": "mnB8NKcDfk69"
      },
      "execution_count": null,
      "outputs": []
    },
    {
      "cell_type": "code",
      "source": [
        "def MaskWaterFunc_TEST(image, blueBand, greenBand, redBand,  nirBand, swirBand):  # image is median aggregiated single image from the collection, not data of type ImageCollection!!!\n",
        "  MNDWI = image.expression(\n",
        "      '((greenBand - swirBand) / (greenBand + swirBand))',\n",
        "        {\n",
        "          'greenBand': image.select(greenBand),\n",
        "          'swirBand': image.select(swirBand),\n",
        "        },\n",
        "      ).rename(\"MNDWI\")\n",
        "\n",
        "  NDVI = image.expression(\n",
        "      '((nirBand - redBand) / (nirBand + redBand))',\n",
        "        {\n",
        "          'nirBand': image.select(nirBand),\n",
        "          'redBand': image.select(redBand),\n",
        "        },\n",
        "      ).rename(\"NDVI\")\n",
        "\n",
        "  EVI = image.expression(\n",
        "      '2.5 * ((nirBand - redBand) / (nirBand + 6 * redBand - 7.5 * blueBand + 1))',\n",
        "        {\n",
        "          'nirBand': image.select(nirBand),\n",
        "          'redBand': image.select(redBand),\n",
        "          'blueBand': image.select(blueBand),\n",
        "        },\n",
        "      ).rename(\"EVI\")\n",
        "\n",
        "  # Water Body Criteria: EVI < 0.1 and (MNDWI > EVI or MNDWI > NDVI)\n",
        "  waterBody = EVI.lt(0.1).And(MNDWI.gt(EVI).Or(MNDWI.gt(NDVI)))\n",
        "\n",
        "  # Return all data for testing purpose\n",
        "  return waterBody.rename(\"WATER\"), MNDWI.rename(\"MNDWI\"), NDVI.rename(\"NDVI\"), EVI.rename(\"EVI\")\n"
      ],
      "metadata": {
        "id": "HgwW6ULcgAZr"
      },
      "execution_count": null,
      "outputs": []
    },
    {
      "cell_type": "code",
      "source": [
        "def MaskWaterFunc_TEST(image, blueBand, greenBand, redBand,  nirBand, swirBand):  # image is median aggregiated single image from the collection, not data of type ImageCollection!!!\n",
        "  MNDWI = image.expression(\n",
        "      '((greenBand - swirBand) / (greenBand + swirBand))',\n",
        "        {\n",
        "          'greenBand': image.select(greenBand),\n",
        "          'swirBand': image.select(swirBand),\n",
        "        },\n",
        "      ).rename(\"MNDWI\")\n",
        "\n",
        "  NDVI = image.expression(\n",
        "      '((nirBand - redBand) / (nirBand + redBand))',\n",
        "        {\n",
        "          'nirBand': image.select(nirBand),\n",
        "          'redBand': image.select(redBand),\n",
        "        },\n",
        "      ).rename(\"NDVI\")\n",
        "\n",
        "  EVI = image.expression(\n",
        "      '2.5 * ((nirBand - redBand) / (nirBand + 6 * redBand - 7.5 * blueBand + 1))',\n",
        "        {\n",
        "          'nirBand': image.select(nirBand),\n",
        "          'redBand': image.select(redBand),\n",
        "          'blueBand': image.select(blueBand),\n",
        "        },\n",
        "      ).rename(\"EVI\")\n",
        "\n",
        "  # Water Body Criteria: EVI < 0.1 and (MNDWI > EVI or MNDWI > NDVI)\n",
        "  waterBody = EVI.lt(0.1).And(MNDWI.gt(EVI).Or(MNDWI.gt(NDVI)))\n",
        "\n",
        "  # Return all data for testing purpose\n",
        "  return waterBody.rename(\"WATER\"), MNDWI.rename(\"MNDWI\"), NDVI.rename(\"NDVI\"), EVI.rename(\"EVI\")\n"
      ],
      "metadata": {
        "id": "3sDNK8SLgmL8"
      },
      "execution_count": null,
      "outputs": []
    },
    {
      "cell_type": "code",
      "source": [
        "L5Col_test = ee.ImageCollection('LANDSAT/LT05/C02/T1_L2') \\\n",
        "                .filterDate('1995-01-01', '1997-06-20') \\\n",
        "                .filterBounds(aoi) \\\n",
        "                .filter(ee.Filter.gt('CLOUD_COVER', 10)) \\\n",
        "                .map(algorithm=maskL457sr) \\\n",
        "                .median()  \\\n",
        "                .clip(aoi)\n",
        "\n",
        "display(L5Col_test)\n"
      ],
      "metadata": {
        "id": "qOQL34aUg8qM"
      },
      "execution_count": null,
      "outputs": []
    },
    {
      "cell_type": "code",
      "source": [
        "\n",
        "# Apply Extract Water Mask Algorithm to the images.\n",
        "waterBody, mndwi, ndvi, evi = MaskWaterFunc_TEST(L5Col_test, blueBand = 'SR_B1', greenBand = 'SR_B2', redBand = 'SR_B3', nirBand = 'SR_B4', swirBand = 'SR_B5')\n"
      ],
      "metadata": {
        "id": "K2rzz2X8hBvJ"
      },
      "execution_count": null,
      "outputs": []
    },
    {
      "cell_type": "code",
      "source": [
        "\n",
        "# Visualize all Layers\n",
        "Map = geemap.Map(center = center, zoom = zoom, width = width)\n",
        "\n",
        "Map.addLayer(L5Col, sc_vis_param_L457, name=\"L8 data\")\n",
        "Map.addLayer(waterBody, name=\"Water Body\")\n",
        "Map.addLayer(ndvi,{'min': -1, 'max': 1, 'palette': 'Greens'}, name=\"NDVI\")\n",
        "Map.addLayer(mndwi, {'min': -1, 'max': 1, 'palette': 'Blues'}, name=\"MNDWI\")\n",
        "Map.addLayer(evi, {'min': -1, 'max': 1, 'palette': 'turbo'}, name=\"EVI\")\n",
        "\n",
        "Map"
      ],
      "metadata": {
        "id": "4Z2Dzm8LhG4T"
      },
      "execution_count": null,
      "outputs": []
    },
    {
      "cell_type": "code",
      "source": [
        "Map = geemap.Map(center = center, zoom = zoom, width = width)\n",
        "Map.addLayer(waterMask['waterMask_1990'][0], sc_vis_param_L457, name=\"Satellite\")\n",
        "Map.addLayer(waterMask['waterMask_1990'][1],{'palette': ['00FFFF', '0000FF']}, name=\"Water Mask\")\n",
        "Map\n"
      ],
      "metadata": {
        "id": "C3KtdiACk2qs"
      },
      "execution_count": null,
      "outputs": []
    },
    {
      "cell_type": "code",
      "source": [
        "Map = geemap.Map(center = center, zoom = zoom, width = width)\n",
        "Map.addLayer(waterMask['waterMask_2020'][0], sc_vis_param_L457, name=\"Satellite\")\n",
        "Map.addLayer(waterMask['waterMask_2020'][1],{'palette': ['00FFFF', '0000FF']}, name=\"Water Mask\")\n",
        "Map"
      ],
      "metadata": {
        "id": "RtntZ9uSlfzx"
      },
      "execution_count": null,
      "outputs": []
    },
    {
      "cell_type": "code",
      "source": [
        "print(list(waterMask.keys()))"
      ],
      "metadata": {
        "id": "hQC_tzsWlf6G"
      },
      "execution_count": null,
      "outputs": []
    },
    {
      "cell_type": "code",
      "source": [
        "# function to calculate area of geometry in sq km. and add property to ee feature.\n",
        "\n",
        "def add_area_property(feature):\n",
        "    area = feature.geometry().area(maxError=1).divide(ee.Number(1000000))\n",
        "    # The maxError=1 is setting the maximum allowable error for the area calculation to be 1 meter.\n",
        "    return feature.set('area', area)\n",
        "\n",
        "# Looping through each water mask raster to convert rasters to vector\n",
        "watermaskVector = {}\n",
        "for item in list(waterMask.keys()):\n",
        "  # https://gis.stackexchange.com/a/413138/126926\n",
        "  wmReduced = waterMask[item][1].reduceNeighborhood(ee.Reducer.mode(), ee.Kernel.circle(5))    # filter operation, to remove isolated pixels\n",
        "  # Raster to Vector operation\n",
        "  vectors = ee.Image(wmReduced).selfMask().reduceToVectors(\n",
        "    geometry=aoi,\n",
        "    scale= 30,\n",
        "    eightConnected= True,\n",
        "    maxPixels= 1e10,\n",
        "    tileScale= 16\n",
        "  )\n",
        "\n",
        "  # calculate area of each vectors\n",
        "  vectorAreaProp = vectors.map(add_area_property)           # add 'area' property by calculating from geometry\n",
        "  vectorWaterMask = (vectorAreaProp.sort('area', False))    # sort the features within featureCollection by 'area' property in descending order\n",
        "  vectorWaterMask = vectorWaterMask.limit(20)               # only top 'n' largest water bodies will be selected\n",
        "  display(vectorWaterMask)\n",
        "\n",
        "  # Add to the dictionary\n",
        "  watermaskVector[item] = vectorWaterMask"
      ],
      "metadata": {
        "id": "lLqdxkZhmkEq"
      },
      "execution_count": null,
      "outputs": []
    },
    {
      "cell_type": "code",
      "source": [
        "# Display the extracted vector water body layer\n",
        "\n",
        "MapFinal = geemap.Map(center = center, zoom = 10, height=\"800px\", width = \"50%\")\n",
        "\n"
      ],
      "metadata": {
        "id": "WvzQLgDFnMjU"
      },
      "execution_count": null,
      "outputs": []
    },
    {
      "cell_type": "code",
      "source": [
        "for layer in watermaskVector:\n",
        "    # Check if the image has bands before adding layers\n",
        "    if waterMask[str(layer)][0].bandNames().size().getInfo() > 0:\n",
        "        MapFinal.addLayer(waterMask[str(layer)][0], sc_vis_param_L457, name=layer.split(\"_\")[1]+\"_Landsat\")   # satellite image\n",
        "        MapFinal.addLayer(watermaskVector[layer], name=layer)\n",
        "    else:\n",
        "        watermaskVector.pop(layer)\n",
        "\n",
        "MapFinal\n"
      ],
      "metadata": {
        "id": "8nA610NQrTBl"
      },
      "execution_count": null,
      "outputs": []
    },
    {
      "cell_type": "code",
      "source": [
        "watermaskVector"
      ],
      "metadata": {
        "id": "ZbPgE9NEzlwc"
      },
      "execution_count": null,
      "outputs": []
    },
    {
      "cell_type": "code",
      "source": [
        "for key, image in waterMask.items():\n",
        "    bands = image[0].bandNames().getInfo()\n",
        "    if bands is None :\n",
        "        waterMask.pop(key)\n",
        "    else:\n",
        "        print(f\"{key}: {bands}\")"
      ],
      "metadata": {
        "id": "j53Qt5Firidq"
      },
      "execution_count": null,
      "outputs": []
    },
    {
      "cell_type": "code",
      "source": [
        "# Demo: Traversing through featureCollection -> feature -> properties\n",
        "\n",
        "# Take feature collection item\n",
        "featureCol = watermaskVector['waterMask_2020']\n",
        "display(featureCol)\n",
        "\n",
        "# Display feature\n",
        "feature = featureCol.first()\n",
        "display(feature)\n",
        "\n",
        "# Display feature as dictionary\n",
        "dictx = feature.toDictionary()    # type: <class 'ee.dictionary.Dictionary'>\n",
        "display(dictx)\n",
        "\n",
        "# Display area property\n",
        "  # dictx.get('area')             # possible way, but not preferred\n",
        "  # .getInfo() changes the ee.dictionary.Dictionary asset to python dictionary which we can manipulate in our program\n",
        "dictx.getInfo()['area']"
      ],
      "metadata": {
        "id": "uzOb6sqqoD2B"
      },
      "execution_count": null,
      "outputs": []
    },
    {
      "cell_type": "code",
      "source": [
        "waterArea = []\n",
        "\n",
        "keys = list(watermaskVector.keys())\n",
        "print(keys)\n",
        "for item in keys:\n",
        "  areaSum = watermaskVector[item].reduceColumns(ee.Reducer.sum(),['area']).get('sum').getInfo()\n",
        "  waterArea.append(areaSum)\n",
        "\n",
        "# .reduceColumns(ee.Reducer.sum(),['area']), applies ee.Reducer.sum() to add all 'area' field, and appends a 'sum' attribute in the dataset.\n",
        "#  We can then retrieve this 'sum' value using .getInfo()"
      ],
      "metadata": {
        "id": "ZdQVOaMDqVn6"
      },
      "execution_count": null,
      "outputs": []
    },
    {
      "cell_type": "code",
      "source": [
        "print(waterArea)"
      ],
      "metadata": {
        "id": "bY_aOYr8qsE_"
      },
      "execution_count": null,
      "outputs": []
    },
    {
      "cell_type": "code",
      "source": [
        "time_frame = list(range(1990, 2025, 5))\n",
        "plt.plot(time_frame, waterArea)"
      ],
      "metadata": {
        "id": "LNIrSnxFsttm"
      },
      "execution_count": null,
      "outputs": []
    },
    {
      "cell_type": "code",
      "source": [],
      "metadata": {
        "id": "9eBioji-s3u0"
      },
      "execution_count": null,
      "outputs": []
    }
  ]
}